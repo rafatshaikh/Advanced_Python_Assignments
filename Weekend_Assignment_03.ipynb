{
 "cells": [
  {
   "cell_type": "code",
   "execution_count": null,
   "metadata": {},
   "outputs": [],
   "source": [
    "Weekend_Assignment "
   ]
  },
  {
   "cell_type": "code",
   "execution_count": null,
   "metadata": {},
   "outputs": [],
   "source": []
  },
  {
   "cell_type": "code",
   "execution_count": 1,
   "metadata": {},
   "outputs": [],
   "source": [
    "rivers = {'Amazon':'South America','Mississippi':'United states','Irtish':'Russia','Yangtze':'China','Zaire':'Congo'}"
   ]
  },
  {
   "cell_type": "code",
   "execution_count": 2,
   "metadata": {},
   "outputs": [],
   "source": [
    "rivers_items = rivers.items()"
   ]
  },
  {
   "cell_type": "code",
   "execution_count": null,
   "metadata": {},
   "outputs": [],
   "source": []
  },
  {
   "cell_type": "code",
   "execution_count": 4,
   "metadata": {},
   "outputs": [
    {
     "name": "stdout",
     "output_type": "stream",
     "text": [
      "The Amazon is flowing through South America.\n",
      "The Mississippi is flowing through United states.\n",
      "The Irtish is flowing through Russia.\n",
      "The Yangtze is flowing through China.\n",
      "The Zaire is flowing through Congo.\n"
     ]
    }
   ],
   "source": [
    "for key,value in rivers_items:\n",
    "    print(f\"The {key} is flowing through {value}.\")"
   ]
  },
  {
   "cell_type": "code",
   "execution_count": null,
   "metadata": {},
   "outputs": [],
   "source": []
  },
  {
   "cell_type": "code",
   "execution_count": 5,
   "metadata": {},
   "outputs": [
    {
     "name": "stdout",
     "output_type": "stream",
     "text": [
      "The Amazon is running through South America.\n",
      "The Mississippi is running through United states.\n",
      "The Irtish is running through Russia.\n",
      "The Yangtze is running through China.\n",
      "The Zaire is running through Congo.\n"
     ]
    }
   ],
   "source": [
    "for key in rivers:\n",
    "    print(f\"The {key} is running through {rivers[key]}.\")"
   ]
  },
  {
   "cell_type": "code",
   "execution_count": null,
   "metadata": {},
   "outputs": [],
   "source": []
  },
  {
   "cell_type": "code",
   "execution_count": null,
   "metadata": {},
   "outputs": [],
   "source": [
    "#Q3- Use a loop to print the name of each river included in the dictionary."
   ]
  },
  {
   "cell_type": "code",
   "execution_count": 8,
   "metadata": {},
   "outputs": [
    {
     "name": "stdout",
     "output_type": "stream",
     "text": [
      "The name of the river is Amazon\n",
      "The name of the river is Mississippi\n",
      "The name of the river is Irtish\n",
      "The name of the river is Yangtze\n",
      "The name of the river is Zaire\n"
     ]
    }
   ],
   "source": [
    "for key in rivers:\n",
    "    print(f\"The name of the river is {key}\")"
   ]
  },
  {
   "cell_type": "code",
   "execution_count": null,
   "metadata": {},
   "outputs": [],
   "source": []
  },
  {
   "cell_type": "code",
   "execution_count": null,
   "metadata": {},
   "outputs": [],
   "source": [
    "#Q4- Using a loop to print the name of each countries included in the dictionary."
   ]
  },
  {
   "cell_type": "code",
   "execution_count": 11,
   "metadata": {},
   "outputs": [
    {
     "name": "stdout",
     "output_type": "stream",
     "text": [
      "The name of the country is South America\n",
      "The name of the country is United states\n",
      "The name of the country is Russia\n",
      "The name of the country is China\n",
      "The name of the country is Congo\n"
     ]
    }
   ],
   "source": [
    "for key in rivers:\n",
    "    print(f\"The name of the country is {rivers[key]}\")"
   ]
  },
  {
   "cell_type": "code",
   "execution_count": null,
   "metadata": {},
   "outputs": [],
   "source": []
  },
  {
   "cell_type": "code",
   "execution_count": null,
   "metadata": {},
   "outputs": [],
   "source": [
    "2nd question"
   ]
  },
  {
   "cell_type": "code",
   "execution_count": 13,
   "metadata": {},
   "outputs": [],
   "source": [
    "favourite_places = {'Eeram':\"Canada\",'Rakshita':\"Dubai\",'Arsheen':\"Russia\"}"
   ]
  },
  {
   "cell_type": "code",
   "execution_count": 14,
   "metadata": {},
   "outputs": [],
   "source": [
    "place_items = favourite_places.items()"
   ]
  },
  {
   "cell_type": "code",
   "execution_count": 15,
   "metadata": {},
   "outputs": [
    {
     "name": "stdout",
     "output_type": "stream",
     "text": [
      "Eeram --> Canada\n",
      "Rakshita --> Dubai\n",
      "Arsheen --> Russia\n"
     ]
    }
   ],
   "source": [
    "for key in favourite_places:\n",
    "    print(key, \"-->\", favourite_places[key])"
   ]
  },
  {
   "cell_type": "code",
   "execution_count": 16,
   "metadata": {},
   "outputs": [
    {
     "name": "stdout",
     "output_type": "stream",
     "text": [
      "Eeram's favourite place is Canada\n",
      "Rakshita's favourite place is Dubai\n",
      "Arsheen's favourite place is Russia\n"
     ]
    }
   ],
   "source": [
    "for key in favourite_places:\n",
    "    print(f\"{key}'s favourite place is {favourite_places[key]}\")"
   ]
  },
  {
   "cell_type": "code",
   "execution_count": null,
   "metadata": {},
   "outputs": [],
   "source": []
  }
 ],
 "metadata": {
  "kernelspec": {
   "display_name": "Python 3",
   "language": "python",
   "name": "python3"
  },
  "language_info": {
   "codemirror_mode": {
    "name": "ipython",
    "version": 3
   },
   "file_extension": ".py",
   "mimetype": "text/x-python",
   "name": "python",
   "nbconvert_exporter": "python",
   "pygments_lexer": "ipython3",
   "version": "3.7.6"
  }
 },
 "nbformat": 4,
 "nbformat_minor": 4
}
