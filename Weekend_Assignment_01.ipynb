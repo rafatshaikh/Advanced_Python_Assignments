{
 "cells": [
  {
   "cell_type": "code",
   "execution_count": null,
   "metadata": {},
   "outputs": [],
   "source": [
    "Assignment restaurant"
   ]
  },
  {
   "cell_type": "code",
   "execution_count": null,
   "metadata": {},
   "outputs": [],
   "source": []
  },
  {
   "cell_type": "code",
   "execution_count": 1,
   "metadata": {},
   "outputs": [],
   "source": [
    "class Restaurant:\n",
    "    \"\"\"Defining a restaurant class\"\"\"\n",
    "    \n",
    "    def __init__(restaurant,name,cuisine): \n",
    "        restaurant.name = name\n",
    "        restaurant.cuisine = cuisine\n",
    "        print('This has executed!')\n",
    "        \n",
    "    def description(restaurant):\n",
    "        print(restaurant.name)\n",
    "        print(restaurant.cuisine)\n",
    "        \n",
    "      \n",
    "    def _open_(restaurant):\n",
    "        print(f\"{restaurant.name} is now open.\")\n",
    "        \n",
    "    def _cuisine_(restaurant):\n",
    "        print(f\" We serve {restaurant.cuisine}.\")"
   ]
  },
  {
   "cell_type": "code",
   "execution_count": 2,
   "metadata": {},
   "outputs": [
    {
     "name": "stdout",
     "output_type": "stream",
     "text": [
      "This has executed!\n"
     ]
    }
   ],
   "source": [
    "abc = Restaurant('Cream Corner','Italian')"
   ]
  },
  {
   "cell_type": "code",
   "execution_count": 3,
   "metadata": {},
   "outputs": [
    {
     "name": "stdout",
     "output_type": "stream",
     "text": [
      "Cream Corner is now open.\n"
     ]
    }
   ],
   "source": [
    "abc._open_()"
   ]
  },
  {
   "cell_type": "code",
   "execution_count": 4,
   "metadata": {},
   "outputs": [
    {
     "name": "stdout",
     "output_type": "stream",
     "text": [
      "Cream Corner\n",
      "Italian\n"
     ]
    }
   ],
   "source": [
    "abc.description()"
   ]
  },
  {
   "cell_type": "code",
   "execution_count": 5,
   "metadata": {},
   "outputs": [
    {
     "name": "stdout",
     "output_type": "stream",
     "text": [
      " We serve Italian.\n"
     ]
    }
   ],
   "source": [
    "abc._cuisine_()"
   ]
  }
 ],
 "metadata": {
  "kernelspec": {
   "display_name": "Python 3",
   "language": "python",
   "name": "python3"
  },
  "language_info": {
   "codemirror_mode": {
    "name": "ipython",
    "version": 3
   },
   "file_extension": ".py",
   "mimetype": "text/x-python",
   "name": "python",
   "nbconvert_exporter": "python",
   "pygments_lexer": "ipython3",
   "version": "3.7.6"
  }
 },
 "nbformat": 4,
 "nbformat_minor": 4
}
