{
 "cells": [
  {
   "cell_type": "code",
   "execution_count": null,
   "metadata": {},
   "outputs": [],
   "source": [
    "T-shirts"
   ]
  },
  {
   "cell_type": "code",
   "execution_count": null,
   "metadata": {},
   "outputs": [],
   "source": [
    "#function on make t-shirt"
   ]
  },
  {
   "cell_type": "code",
   "execution_count": 1,
   "metadata": {},
   "outputs": [],
   "source": [
    "def make_shirt(size,text):\n",
    "    \"\"\"describing the informtion of the t-shirt\"\"\"\n",
    "    print(f\"The size of the T-shirt is '{size}' and the text that should be printed is '{text}'\")"
   ]
  },
  {
   "cell_type": "code",
   "execution_count": 2,
   "metadata": {},
   "outputs": [
    {
     "name": "stdout",
     "output_type": "stream",
     "text": [
      "The size of the T-shirt is 'XL' and the text that should be printed is 'Python is amazing'\n"
     ]
    }
   ],
   "source": [
    "make_shirt('XL','Python is amazing')"
   ]
  },
  {
   "cell_type": "code",
   "execution_count": 3,
   "metadata": {},
   "outputs": [],
   "source": [
    "def make_shirt(size,text):\n",
    "    \"\"\"describing the informtion of the t-shirt\"\"\"\n",
    "    print(f\"The size of the T-shirt is '{size}' and the text that should be printed on the shirt is '{text}'\")"
   ]
  },
  {
   "cell_type": "code",
   "execution_count": 4,
   "metadata": {},
   "outputs": [
    {
     "name": "stdout",
     "output_type": "stream",
     "text": [
      "The size of the T-shirt is 'L' and the text that should be printed on the shirt is 'Python is amazing'\n"
     ]
    }
   ],
   "source": [
    "make_shirt(text='Python is amazing',size='L')"
   ]
  },
  {
   "cell_type": "code",
   "execution_count": null,
   "metadata": {},
   "outputs": [],
   "source": []
  },
  {
   "cell_type": "code",
   "execution_count": null,
   "metadata": {},
   "outputs": [],
   "source": [
    "#LARGE T_SHIRTS"
   ]
  },
  {
   "cell_type": "code",
   "execution_count": null,
   "metadata": {},
   "outputs": [],
   "source": [
    "def make_shirt(size,text):\n",
    "    \"\"\"describing the informtion of the t-shirt\"\"\"\n",
    "    print(f\"The size of the T-shirt is '{size}' and the text that should be printed is '{text}'\")"
   ]
  },
  {
   "cell_type": "code",
   "execution_count": 5,
   "metadata": {},
   "outputs": [
    {
     "name": "stdout",
     "output_type": "stream",
     "text": [
      "The size of the T-shirt is 'L' and the text that should be printed on the shirt is 'I love Python'\n"
     ]
    }
   ],
   "source": [
    "make_shirt('L','I love Python')"
   ]
  },
  {
   "cell_type": "code",
   "execution_count": 6,
   "metadata": {},
   "outputs": [
    {
     "name": "stdout",
     "output_type": "stream",
     "text": [
      "The size of the T-shirt is 'medium' and the text that should be printed on the shirt is 'I love Python'\n"
     ]
    }
   ],
   "source": [
    "make_shirt('medium','I love Python')"
   ]
  },
  {
   "cell_type": "code",
   "execution_count": null,
   "metadata": {
    "collapsed": true
   },
   "outputs": [],
   "source": [
    "#of any size"
   ]
  },
  {
   "cell_type": "code",
   "execution_count": 7,
   "metadata": {},
   "outputs": [
    {
     "name": "stdout",
     "output_type": "stream",
     "text": [
      "The size of the T-shirt is 'Small' and the text that should be printed on the shirt is 'Python is trendy'\n"
     ]
    }
   ],
   "source": [
    "make_shirt('Small','Python is trendy')"
   ]
  },
  {
   "cell_type": "code",
   "execution_count": null,
   "metadata": {},
   "outputs": [],
   "source": []
  },
  {
   "cell_type": "code",
   "execution_count": null,
   "metadata": {},
   "outputs": [],
   "source": [
    "#CITIES"
   ]
  },
  {
   "cell_type": "code",
   "execution_count": 2,
   "metadata": {},
   "outputs": [],
   "source": [
    "def describe_city(city,country):\n",
    "    \"\"\"describing the city\"\"\"\n",
    "    print(f\"{city} is in {country}\")"
   ]
  },
  {
   "cell_type": "code",
   "execution_count": 3,
   "metadata": {},
   "outputs": [
    {
     "name": "stdout",
     "output_type": "stream",
     "text": [
      "Ottawa is in Canada\n"
     ]
    }
   ],
   "source": [
    "describe_city('Ottawa','Canada')"
   ]
  },
  {
   "cell_type": "code",
   "execution_count": 4,
   "metadata": {},
   "outputs": [
    {
     "name": "stdout",
     "output_type": "stream",
     "text": [
      "Yerevan is in Armenia\n"
     ]
    }
   ],
   "source": [
    "describe_city('Yerevan','Armenia')"
   ]
  },
  {
   "cell_type": "code",
   "execution_count": 5,
   "metadata": {},
   "outputs": [],
   "source": [
    "def describe_city(city,country='Saudi Arabia'):    #default arg..country\n",
    "    \"\"\"describing the city\"\"\"\n",
    "    print(f\"{city} is in {country}\")"
   ]
  },
  {
   "cell_type": "code",
   "execution_count": 6,
   "metadata": {},
   "outputs": [
    {
     "name": "stdout",
     "output_type": "stream",
     "text": [
      "Hajrah is in Saudi Arabia\n"
     ]
    }
   ],
   "source": [
    "describe_city('Hajrah')"
   ]
  },
  {
   "cell_type": "code",
   "execution_count": 7,
   "metadata": {},
   "outputs": [
    {
     "name": "stdout",
     "output_type": "stream",
     "text": [
      "Jeddah is in Saudi Arabia\n"
     ]
    }
   ],
   "source": [
    "describe_city('Jeddah')"
   ]
  },
  {
   "cell_type": "code",
   "execution_count": 8,
   "metadata": {},
   "outputs": [
    {
     "name": "stdout",
     "output_type": "stream",
     "text": [
      "Mumbai is in Saudi Arabia\n"
     ]
    }
   ],
   "source": [
    "describe_city('Mumbai')   #for not in "
   ]
  }
 ],
 "metadata": {
  "kernelspec": {
   "display_name": "Python 3",
   "language": "python",
   "name": "python3"
  },
  "language_info": {
   "codemirror_mode": {
    "name": "ipython",
    "version": 3
   },
   "file_extension": ".py",
   "mimetype": "text/x-python",
   "name": "python",
   "nbconvert_exporter": "python",
   "pygments_lexer": "ipython3",
   "version": "3.7.6"
  }
 },
 "nbformat": 4,
 "nbformat_minor": 4
}
